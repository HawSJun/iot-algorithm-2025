{
 "cells": [
  {
   "cell_type": "markdown",
   "metadata": {},
   "source": [
    "#### 1. P511 배낭함수 문제의 1, 2에 적합한 코드를 골라서 작성하시오."
   ]
  },
  {
   "cell_type": "code",
   "execution_count": null,
   "metadata": {},
   "outputs": [
    {
     "name": "stdout",
     "output_type": "stream",
     "text": [
      "배낭문제 최대 보석 가격 = 14\n"
     ]
    }
   ],
   "source": [
    "maxWeight = 7\n",
    "rowCount = 4\n",
    "weight = [0, 6, 4, 3, 5]\n",
    "money = [0, 13, 8, 6, 12]\n",
    "\n",
    "def knapspack():\n",
    "    array = [[0 for _ in range(maxWeight + 1)] for _ in range(rowCount + 1)] # rowCount + 1 행, maxWeight + 1 열로 된 2차원 배열 생성(5x8)\n",
    "   \n",
    "    for row in range(1, rowCount + 1): # 1부터 rowCount까지 반복\n",
    "        # 1부터 maxWeight까지 반복\n",
    "        for col in range(1, maxWeight + 1): # 1부터 maxWeight까지 반복\n",
    "            if weight[row] > col: # weight[row]의 무게가 col 보다 크면(이전 값보다 컬럼(무게)가 작으면)\n",
    "                array[row][col] = array[row - 1][col]  # 이전 상태에서 값을 그대로 가져옴\n",
    "            else:\n",
    "                value1 = money[row] + array[row - 1][col - weight[row]] # money[row]의 값을 더하고, 남은 무게에서 현재 물건을 뺀 값으로 이전 행에서 값을 찾음\n",
    "                                                                        # 최대 무게에서 현재 들어갈 무게를 뺀 위치의 가치 + 현재 보석의 가격\n",
    "                value2 = array[row - 1][col]  # 이전 행에서 해당 무게에 값을 그대로 가져옴\n",
    "                array[row][col] = max(value1, value2) # value1, value2 중 더 큰 값을 선택하여 array[row][col]에 저장\n",
    "\n",
    "    \n",
    "    return array[rowCount][maxWeight]   # 마지막 rowCount와 마지막 maxWeight에 저장된 값을 반환\n",
    "                                        # 최종 행렬 마지막 값(arr[4][7])을 리턴\n",
    "\n",
    "maxValue = knapspack()\n",
    "print(f'배낭문제 최대 보석 가격 = {maxValue}')"
   ]
  },
  {
   "cell_type": "markdown",
   "metadata": {},
   "source": [
    "#### 2. P269 유명 맛집 대기줄 구현하기 문제를 while True:문을 사용하여 동적으로 입력을 받는 프로그램으로 변경작성하시오."
   ]
  },
  {
   "cell_type": "code",
   "execution_count": 3,
   "metadata": {},
   "outputs": [
    {
     "name": "stdout",
     "output_type": "stream",
     "text": [
      "대기 줄 상태 : [None, None, None, None, None]\n",
      "정국님이 추가되었습니다.\n",
      "대기 줄 상태 : ['정국', None, None, None, None]\n",
      "뷔님이 추가되었습니다.\n",
      "대기 줄 상태 : ['정국', '뷔', None, None, None]\n",
      "지민님이 추가되었습니다.\n",
      "대기 줄 상태 : ['정국', '뷔', '지민', None, None]\n",
      "진님이 추가되었습니다.\n",
      "대기 줄 상태 : ['정국', '뷔', '지민', '진', None]\n",
      "슈가님이 추가되었습니다.\n",
      "대기 줄 상태 : ['정국', '뷔', '지민', '진', '슈가']\n",
      "큐가 꽉 찼습니다.\n",
      "대기 줄 상태 : ['정국', '뷔', '지민', '진', '슈가']\n",
      "잘못된 입력입니다.\n",
      "대기 줄 상태 : ['정국', '뷔', '지민', '진', '슈가']\n",
      "큐가 꽉 찼습니다.\n",
      "대기 줄 상태 : ['정국', '뷔', '지민', '진', '슈가']\n",
      "정국님이 식당에 들어감.\n",
      "대기 줄 상태 : ['뷔', '지민', '진', '슈가', None]\n",
      "뷔님이 식당에 들어감.\n",
      "대기 줄 상태 : ['지민', '진', '슈가', None, None]\n",
      "지민님이 식당에 들어감.\n",
      "대기 줄 상태 : ['진', '슈가', None, None, None]\n",
      "진님이 식당에 들어감.\n",
      "대기 줄 상태 : ['슈가', None, None, None, None]\n",
      "슈가님이 식당에 들어감.\n",
      "대기 줄 상태 : [None, None, None, None, None]\n",
      "큐가 비었습니다.\n",
      "대기 줄 상태 : [None, None, None, None, None]\n",
      "큐가 비었습니다.\n",
      "대기 줄 상태 : [None, None, None, None, None]\n",
      "식당 영업 종료!\n"
     ]
    }
   ],
   "source": [
    "SIZE = 5 # 큐의 크기 5로 설정\n",
    "queue = [None for _ in range(SIZE)] # 큐를 None으로 초기화하여 생성\n",
    "front = rear = -1 # front와 rear를 -1로 초기화\n",
    "\n",
    "def isQueueFull(): # 큐가 가득 찼는지 확인\n",
    "    global SIZE, queue, front, rear\n",
    "    if rear == SIZE - 1: # rear가 SIZE-1이면 큐가 가득 찼으므로 True 반환\n",
    "        return True\n",
    "    else:\n",
    "        return False # 아니면 False 반환\n",
    "    \n",
    "def isQueueEmpty(): # 큐가 비었는지 확인\n",
    "    global SIZE, queue, front, rear\n",
    "    if front == rear: # front와 rear가 같으면 큐가 비어있으므로 True 반환\n",
    "        return True\n",
    "    else:\n",
    "        return False # 아니면 False 반환\n",
    "\n",
    "def enQueue(data): # 데이터 추가\n",
    "    global SIZE, queue, front, rear\n",
    "    if isQueueFull(): # 큐가 가득 차 있으면 \n",
    "        print('큐가 꽉 찼습니다.') # 큐가 꽉 찼습니다. 출력\n",
    "        return\n",
    "    rear += 1 # rear + 1 을 하여 data에 삽입\n",
    "    queue[rear] = data\n",
    "\n",
    "def deQueue(): # 데이터 추출\n",
    "    global SIZE, queue, front, rear\n",
    "    if isQueueEmpty(): # 큐가 비어 있으면\n",
    "        print('큐가 비었습니다.') # 큐가 비었습니다. 출력\n",
    "        return None\n",
    "    front += 1 # front를 +1 하여 큐에서 첫 번째 데이터를 제거\n",
    "    data = queue[front]\n",
    "    queue[front] = None\n",
    "\n",
    "    for i in range(front+1, rear+1):\n",
    "        queue[i-1] = queue[i]\n",
    "        queue[i] = None  # 뒤쪽 데이터는 None으로 초기화\n",
    "    front = -1\n",
    "    rear -= 1\n",
    "\n",
    "    return data #  추출된 데이터 반환\n",
    "\n",
    "def peek():\n",
    "    global SIZE, queue, front, rear\n",
    "    if isQueueEmpty(): # 큐가 비었으면\n",
    "        print('큐가 비었습니다.')\n",
    "        return None #  None 반환\n",
    "    return queue[front+1] # front + 1 위치에 있는 데이터를 반환\n",
    "\n",
    "if __name__ == '__main__':\n",
    "    while True:\n",
    "\n",
    "        print(f'대기 줄 상태 : {queue}')\n",
    "        select = input('삽입(I)/추출(E)/종료(Q) --> ').upper() # I, E, Q 입력 받고 소문자로 입력 시  대문자로 변경해서 입력 받음\n",
    "\n",
    "        if select == 'I':\n",
    "            if isQueueFull(): # 큐가 꽉 찼으면 \n",
    "                print('큐가 꽉 찼습니다.') # 출력\n",
    "            else:\n",
    "                data = input(\"추가 입력 : \") # 아니면 입력 받음\n",
    "                enQueue(data)\n",
    "                print(f'{data}님이 추가되었습니다.') # 입력 받은 data 추가\n",
    "        elif select == 'E': # E 입력 시 데이터 추출\n",
    "            data = deQueue() # 첫번째 데이터 추출\n",
    "            if data != None: # 추출된 데이터가 None이 아니면 \n",
    "                print(f'{data}님이 식당에 들어감.') # 식당에 들어감 출력\n",
    "        elif select == 'Q': # Q 입력 시 \n",
    "            print('식당 영업 종료!') # 식당 영업 종료 출력\n",
    "            break\n",
    "        else:\n",
    "            print(\"잘못된 입력입니다.\")"
   ]
  },
  {
   "cell_type": "markdown",
   "metadata": {},
   "source": [
    "#### 3. P309 편의점 판매된 물건 목록 출력하기 문제 역시 while True: 문으로 동적으로 입력받는 프로그램으로 변경하시오.\n",
    "##### 데이터의 종류는 [ 콘말차, 삿포로 맥주, 아카페라 벤티 헤이즐넛, 레어치즈푸딩, 척오리지널 메가 사워, 요아정 요거트컵, 페퍼로니피자주먹밥, 널담 슈톨렌, 딸기마시멜로케이크, 버니공쥬 딸기뚱카롱, 고추잡채호빵, 체다 슈크림붕어스낵 ]"
   ]
  },
  {
   "cell_type": "code",
   "execution_count": null,
   "metadata": {},
   "outputs": [
    {
     "name": "stdout",
     "output_type": "stream",
     "text": [
      "오늘 판매된 물건(중복O) --> ['체다 슈크림붕어스낵', '척오리지널 메가 사워', '고추잡채호빵', '척오리지널 메가 사워', '고추잡채호빵', '콘말차', '요아정 요거트컵', '삿포로 맥주', '널담 슈톨렌', '레어치즈푸딩', '삿포로 맥주', '딸기마시멜로케이크', '체다 슈크림붕어스낵', '딸기마시멜로케이크', '고추잡채호빵', '널담 슈톨렌', '고추잡채호빵', '삿포로 맥주', '페퍼로니피자주먹밥', '아카페라 벤티 헤이즐넛']\n",
      "이진 탐색 트리 구성 완료!\n",
      "오늘 판매된 종류(중복X) --> 체다 슈크림붕어스낵 척오리지널 메가 사워 고추잡채호빵 고추잡채호빵 요아정 요거트컵 삿포로 맥주 널담 슈톨렌 고추잡채호빵 고추잡채호빵 레어치즈푸딩 딸기마시멜로케이크 널담 슈톨렌 딸기마시멜로케이크 삿포로 맥주 삿포로 맥주 아카페라 벤티 헤이즐넛 척오리지널 메가 사워 콘말차 체다 슈크림붕어스낵 페퍼로니피자주먹밥 "
     ]
    }
   ],
   "source": [
    "import random\n",
    "\n",
    "memory = [] # 트리 노드를 저장할 리스트 생성\n",
    "root = None # root를 None 으로 초기화\n",
    "dataAry = ['콘말차', '삿포로 맥주', '아카페라 벤티 헤이즐넛', '레어치즈푸딩', '척오리지널 메가 사워', '요아정 요거트컵', '페퍼로니피자주먹밥', \n",
    "           '널담 슈톨렌', '딸기마시멜로케이크', '버니공쥬 딸기뚱카롱', '고추잡채호빵', '체다 슈크림붕어스낵']\n",
    "sellAry = [random.choice(dataAry) for _ in range(20)] # 20개의 판매된 물건을 랜덤으로 선택\n",
    "\n",
    "print(f'오늘 판매된 물건(중복O) --> {sellAry}')\n",
    "\n",
    "class TreeNode():\n",
    "    def __init__(self): # left, data, right = None 으로 초기화\n",
    "        self.left = None\n",
    "        self.data = None\n",
    "        self.right = None\n",
    "\n",
    "node = TreeNode()\n",
    "node.data = sellAry[0]  # 첫 번째 sellAry를 노드에 저장\n",
    "root = node\n",
    "memory.append(node) # 노드를 메모리에 추가\n",
    "\n",
    "for name in sellAry[1:]:\n",
    "\n",
    "    node = TreeNode()\n",
    "    node.data =name\n",
    "\n",
    "    current = root\n",
    "    while True:\n",
    "        if name < current.data:\n",
    "            if current.left == None:\n",
    "                current.left = node\n",
    "                memory.append(node)\n",
    "                break\n",
    "            else:\n",
    "                current = current.left\n",
    "        else:\n",
    "            if current.right == None:\n",
    "                current.right = node\n",
    "                memory.append(node)\n",
    "                break\n",
    "            else:\n",
    "                current = current.right\n",
    "\n",
    "print('이진 탐색 트리 구성 완료!')\n",
    "\n",
    "def preorder(node):\n",
    "    if node == None:\n",
    "        return\n",
    "    print(node.data, end=' ')\n",
    "    preorder(node.left)\n",
    "    preorder(node.right)\n",
    "\n",
    "print('오늘 판매된 종류(중복X) -->', end=' ')\n",
    "preorder(root)"
   ]
  },
  {
   "cell_type": "markdown",
   "metadata": {},
   "source": [
    "#### 4. P473 Self Study 13-2 의 문제. 이진 검색 알고리즘을 풀면서 검색 횟수도 같이 출력하도록 구현하세요."
   ]
  },
  {
   "cell_type": "code",
   "execution_count": null,
   "metadata": {},
   "outputs": [
    {
     "name": "stdout",
     "output_type": "stream",
     "text": [
      "배열 일부 --> [73649, 63655, 93374, 37556, 91906] ~~~ [70500, 18067, 29732, 53530, 32284]\n",
      "54546 이(가) 없네요!\n",
      "## 17회 검색함\n"
     ]
    }
   ],
   "source": [
    "import random # random 모듈을 가져와 랜덤 숫자를 생성\n",
    "\n",
    "ary = [random.randint(0, 100000) for _ in range(100000)] # 0부터 100000까지의 정수 중에서 랜덤하게 100000개 숫자를 리스트에 생성\n",
    "findData = int(input('찾을 값 입력(숫자) ')) # 찾을 값을 입력 받음\n",
    "count = 0 # 검색 횟수를 카운팅할 변수\n",
    "\n",
    "def binSearch(ary, data):\n",
    "    global count  # 전역변수 count를 사용\n",
    "    pos = - 1 # 값을 찾지 못하면 -1 반환\n",
    "    start = 0 # 시작 위치\n",
    "    end = len(ary) - 1 # 마지막 위치\n",
    "    while (start <= end): # start가 end보다 작거나 같을 동안 반복\n",
    "        mid = (start + end) // 2 # start와 end의 중간 값 계산\n",
    "        if data == ary[mid]: #  찾으려는 data가 중간 값과 같다면\n",
    "            return mid  # 중간 값을 반환\n",
    "        elif data > ary[mid]: # 찾으려는 data가 중간 값 보다 크면\n",
    "            start = mid + 1 # 시작점을 중앙 위치 +1로 변경\n",
    "            count += 1 # 검색이 진행되면 카운트 증가\n",
    "        else: # 찾는 data가 중간 값보다 작으면 \n",
    "            end = mid - 1 # 끝점을 중앙 위치 -1로 변경\n",
    "            count += 1 # 검색이 진행되면 카운트 증가\n",
    "    \n",
    "    return pos # 값을 찾지 못하면 pos 값 -1 반환\n",
    "    \n",
    "print(f'배열 일부 --> {ary[:5]} ~~~ {ary[-5:]}') # 배열의 처음 5개 값과 마지막 5개 값을 출력\n",
    "pos = binSearch(ary, findData)\n",
    "\n",
    "if pos == -1: # pos가 -1 이면 찾을 data가 없음\n",
    "    print(f'{findData} 이(가) 없네요!')\n",
    "else: # 찾는 data가 있으면 \n",
    "    print(f'{findData} (은)는 {pos} 위치에 있음')\n",
    "\n",
    "print(f'## {count}회 검색함')"
   ]
  }
 ],
 "metadata": {
  "kernelspec": {
   "display_name": "3.11.9",
   "language": "python",
   "name": "python3"
  },
  "language_info": {
   "codemirror_mode": {
    "name": "ipython",
    "version": 3
   },
   "file_extension": ".py",
   "mimetype": "text/x-python",
   "name": "python",
   "nbconvert_exporter": "python",
   "pygments_lexer": "ipython3",
   "version": "3.11.9"
  }
 },
 "nbformat": 4,
 "nbformat_minor": 2
}
